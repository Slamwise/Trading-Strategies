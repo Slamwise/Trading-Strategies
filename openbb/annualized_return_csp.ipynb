{
 "cells": [
  {
   "cell_type": "code",
   "execution_count": 37,
   "metadata": {},
   "outputs": [],
   "source": [
    "from openbb import obb\n",
    "import warnings\n",
    "import time\n",
    "import pandas as pd\n",
    "import yfinance as yf\n",
    "from datetime import datetime, timedelta\n",
    "\n",
    "# Ignore all warnings\n",
    "warnings.filterwarnings(\"ignore\")\n",
    "\n",
    "def fetch_option_data(symbols, annualized_return_threshold, dte_threshold):\n",
    "    all_results = []\n",
    "    for symbol in symbols:\n",
    "        # Get the option chains for the specified symbol\n",
    "        chains = obb.derivatives.options.chains(symbol=symbol)\n",
    "        df = chains.to_dataframe()\n",
    "\n",
    "        # Filter for put options\n",
    "        put_options = df[df['option_type'] == 'put']\n",
    "\n",
    "        # Get the current underlying price\n",
    "        current_price = df['underlying_price'].iloc[0]\n",
    "\n",
    "        # Function to calculate annualized return\n",
    "        def calculate_annualized_return(row):\n",
    "            days_to_expiration = row['dte']\n",
    "            strike_price = row['strike']\n",
    "            bid_price = row['bid']\n",
    "            \n",
    "            if days_to_expiration == 0 or strike_price == 0:\n",
    "                return 0\n",
    "            \n",
    "            # Calculate potential profit\n",
    "            potential_profit = bid_price\n",
    "            \n",
    "            # Calculate annualized return\n",
    "            annualized_return = (potential_profit / strike_price) * (365 / days_to_expiration) * 100\n",
    "            \n",
    "            return annualized_return\n",
    "\n",
    "        # Apply the function to each row\n",
    "        put_options['annualized_return'] = put_options.apply(calculate_annualized_return, axis=1)\n",
    "\n",
    "        # Filter for options with annualized return higher than the threshold and strikes under the current price\n",
    "        high_return_puts = put_options[\n",
    "            (put_options['annualized_return'] >= annualized_return_threshold) & \n",
    "            (put_options['strike'] < current_price)\n",
    "        ]\n",
    "\n",
    "        if dte_threshold:\n",
    "            # Filter for options with specific DTE\n",
    "            high_return_puts = high_return_puts[high_return_puts['dte'] == dte_threshold]\n",
    "\n",
    "        # Calculate percentage difference\n",
    "        high_return_puts['pct_difference'] = (\n",
    "            high_return_puts['strike'] - high_return_puts['underlying_price']\n",
    "        ) / high_return_puts['underlying_price']\n",
    "\n",
    "        # Add symbol column\n",
    "        high_return_puts['symbol'] = symbol\n",
    "\n",
    "        # Reset index\n",
    "        high_return_puts.reset_index(drop=True, inplace=True)\n",
    "\n",
    "        # Append to all_results\n",
    "        all_results.append(high_return_puts)\n",
    "\n",
    "        time.sleep(1)  # To respect API rate limits\n",
    "\n",
    "    # Combine all results into a single DataFrame\n",
    "    combined_results = pd.concat(all_results, ignore_index=True)\n",
    "    return combined_results\n",
    "\n",
    "def calculate_technical_indicators(symbols):\n",
    "    technicals = {}\n",
    "    for symbol in symbols:\n",
    "        end_date = datetime.now()\n",
    "        start_date = end_date - timedelta(days=365)  # Get 1 year of data\n",
    "        \n",
    "        stock = yf.Ticker(symbol)\n",
    "        history = stock.history(start=start_date, end=end_date)\n",
    "        \n",
    "        # Calculate 200-day SMA\n",
    "        sma_200 = history['Close'].rolling(window=200).mean().iloc[-1]\n",
    "        \n",
    "        # Calculate weekly RSI\n",
    "        weekly_data = history.resample('W').last()\n",
    "        delta = weekly_data['Close'].diff()\n",
    "        gain = (delta.where(delta > 0, 0)).rolling(window=14).mean()\n",
    "        loss = (-delta.where(delta < 0, 0)).rolling(window=14).mean()\n",
    "        rs = gain / loss\n",
    "        rsi = 100 - (100 / (1 + rs)).iloc[-1]\n",
    "        \n",
    "        # Calculate weekly MACD\n",
    "        exp1 = weekly_data['Close'].ewm(span=12, adjust=False).mean()\n",
    "        exp2 = weekly_data['Close'].ewm(span=26, adjust=False).mean()\n",
    "        macd = exp1 - exp2\n",
    "        signal = macd.ewm(span=9, adjust=False).mean()\n",
    "        histogram = macd - signal\n",
    "        \n",
    "        technicals[symbol] = {\n",
    "            'sma_200': sma_200,\n",
    "            'weekly_rsi': rsi,\n",
    "            'weekly_macd': macd.iloc[-1],\n",
    "            'weekly_macd_signal': signal.iloc[-1],\n",
    "            'weekly_macd_histogram': histogram.iloc[-1]\n",
    "        }\n",
    "    return technicals"
   ]
  },
  {
   "cell_type": "code",
   "execution_count": 38,
   "metadata": {},
   "outputs": [],
   "source": [
    "symbols = ['AEO', 'HAL', 'HPQ', 'NVDL', 'PINS', 'PLTR', 'SOFI', 'STNE', 'TSLL', 'UAA', 'UAL', 'URBN']\n",
    "annualized_return_threshold = 30\n",
    "dte_threshold = 3\n",
    "\n",
    "# Fetch option data\n",
    "combined_results = fetch_option_data(symbols, annualized_return_threshold, dte_threshold)\n",
    "\n",
    "# Calculate technical indicators\n",
    "technicals = calculate_technical_indicators(symbols)\n",
    "\n",
    "# Merge technical indicators into the combined_results DataFrame\n",
    "combined_results['weekly_rsi'] = combined_results['symbol'].apply(lambda x: technicals[x]['weekly_rsi'])\n",
    "combined_results['weekly_macd'] = combined_results['symbol'].apply(lambda x: technicals[x]['weekly_macd'])\n",
    "combined_results['weekly_macd_signal'] = combined_results['symbol'].apply(lambda x: technicals[x]['weekly_macd_signal'])\n",
    "combined_results['weekly_macd_histogram'] = combined_results['symbol'].apply(lambda x: technicals[x]['weekly_macd_histogram'])\n",
    "combined_results['sma_200'] = combined_results['symbol'].apply(lambda x: technicals[x]['sma_200'])\n",
    "combined_results['price_to_sma_200'] = (\n",
    "    (combined_results['underlying_price'] - combined_results['sma_200']) / combined_results['sma_200']\n",
    ") * 100"
   ]
  },
  {
   "cell_type": "code",
   "execution_count": 39,
   "metadata": {},
   "outputs": [
    {
     "name": "stdout",
     "output_type": "stream",
     "text": [
      "   underlying_symbol  underlying_price      contract_symbol  expiration  dte  \\\n",
      "27              PINS             32.66  PINS241004P00032500  2024-10-04    3   \n",
      "26              PINS             32.66  PINS241004P00032000  2024-10-04    3   \n",
      "24              PINS             32.66  PINS241004P00031000  2024-10-04    3   \n",
      "25              PINS             32.66  PINS241004P00031500  2024-10-04    3   \n",
      "\n",
      "    strike option_type  open_interest  volume  last_trade_price  ... currency  \\\n",
      "27    32.5         put            455     366              0.47  ...      USD   \n",
      "26    32.0         put            217     624              0.26  ...      USD   \n",
      "24    31.0         put            150     406              0.11  ...      USD   \n",
      "25    31.5         put            275     515              0.13  ...      USD   \n",
      "\n",
      "    annualized_return  pct_difference  symbol  weekly_rsi  weekly_macd  \\\n",
      "27         160.974359       -0.004899    PINS    27.82423    -1.735583   \n",
      "26          98.854167       -0.020208    PINS    27.82423    -1.735583   \n",
      "24          31.397849       -0.050827    PINS    27.82423    -1.735583   \n",
      "25          30.899471       -0.035517    PINS    27.82423    -1.735583   \n",
      "\n",
      "    weekly_macd_signal weekly_macd_histogram    sma_200  price_to_sma_200  \n",
      "27           -1.100947             -0.634636  36.597275        -10.758383  \n",
      "26           -1.100947             -0.634636  36.597275        -10.758383  \n",
      "24           -1.100947             -0.634636  36.597275        -10.758383  \n",
      "25           -1.100947             -0.634636  36.597275        -10.758383  \n",
      "\n",
      "[4 rows x 27 columns]\n"
     ]
    }
   ],
   "source": [
    "# Example: Filter options where weekly RSI is below 30 and sort by annualized return\n",
    "filtered_results = combined_results[combined_results['weekly_rsi'] < 30]\n",
    "sorted_results = filtered_results.sort_values(by='annualized_return', ascending=False)\n",
    "\n",
    "# Display the top results\n",
    "print(sorted_results.head())"
   ]
  },
  {
   "cell_type": "code",
   "execution_count": 40,
   "metadata": {},
   "outputs": [
    {
     "data": {
      "application/vnd.jupyter.widget-view+json": {
       "model_id": "a1655d0d493f48d0aeaf50c62ae0b3c4",
       "version_major": 2,
       "version_minor": 0
      },
      "text/plain": [
       "interactive(children=(IntSlider(value=30, description='rsi_threshold', min=30), IntSlider(value=30, descriptio…"
      ]
     },
     "metadata": {},
     "output_type": "display_data"
    },
    {
     "data": {
      "text/plain": [
       "<function __main__.interactive_filter(rsi_threshold=30, min_annual_return=30, min_pct_difference=-0.15, max_pct_difference=-0.03, max_price_to_sma_200=25)>"
      ]
     },
     "execution_count": 40,
     "metadata": {},
     "output_type": "execute_result"
    }
   ],
   "source": [
    "from IPython.display import display\n",
    "from ipywidgets import interact\n",
    "\n",
    "def interactive_filter(rsi_threshold=30, min_annual_return=30, min_pct_difference=-0.15, max_pct_difference=-0.03, max_price_to_sma_200=25):\n",
    "    filtered = combined_results[\n",
    "        (combined_results['weekly_rsi'] >= rsi_threshold) &\n",
    "        (combined_results['annualized_return'] >= min_annual_return) &\n",
    "        (combined_results['pct_difference'] >= min_pct_difference) &\n",
    "        (combined_results['pct_difference'] <= max_pct_difference) &\n",
    "        (combined_results['price_to_sma_200'] <= max_price_to_sma_200)\n",
    "    ]\n",
    "    columns_to_display = ['underlying_symbol', 'underlying_price', 'strike', 'open_interest', 'bid', 'annualized_return', 'weekly_rsi', 'price_to_sma_200']\n",
    "    display(filtered[columns_to_display].sort_values(by='annualized_return', ascending=False))\n",
    "\n",
    "interact(\n",
    "    interactive_filter,\n",
    "    rsi_threshold=(30, 100, 1),\n",
    "    min_annual_return=(30, 100, 1),\n",
    "    min_pct_difference=(-0.25, 0, 0.001),\n",
    "    max_pct_difference=(-0.25, 0, 0.001),\n",
    "    max_price_to_sma_200=(0, 100, 1)\n",
    ")"
   ]
  },
  {
   "cell_type": "code",
   "execution_count": 36,
   "metadata": {},
   "outputs": [
    {
     "ename": "NameError",
     "evalue": "name 'get_csp_options' is not defined",
     "output_type": "error",
     "traceback": [
      "\u001b[1;31m---------------------------------------------------------------------------\u001b[0m",
      "\u001b[1;31mNameError\u001b[0m                                 Traceback (most recent call last)",
      "Cell \u001b[1;32mIn[36], line 1\u001b[0m\n\u001b[1;32m----> 1\u001b[0m \u001b[43mget_csp_options\u001b[49m(\u001b[38;5;124m'\u001b[39m\u001b[38;5;124mNVDL\u001b[39m\u001b[38;5;124m'\u001b[39m, \u001b[38;5;241m30\u001b[39m)\n",
      "\u001b[1;31mNameError\u001b[0m: name 'get_csp_options' is not defined"
     ]
    }
   ],
   "source": [
    "get_csp_options('NVDL', 30)"
   ]
  },
  {
   "cell_type": "code",
   "execution_count": null,
   "metadata": {},
   "outputs": [
    {
     "ename": "AttributeError",
     "evalue": "'App' object has no attribute 'technical'",
     "output_type": "error",
     "traceback": [
      "\u001b[1;31m---------------------------------------------------------------------------\u001b[0m",
      "\u001b[1;31mAttributeError\u001b[0m                            Traceback (most recent call last)",
      "Cell \u001b[1;32mIn[21], line 16\u001b[0m\n\u001b[0;32m     13\u001b[0m stock_data_df \u001b[38;5;241m=\u001b[39m stock_data\u001b[38;5;241m.\u001b[39mto_dataframe()\n\u001b[0;32m     15\u001b[0m \u001b[38;5;66;03m# Calculate 200-day Simple Moving Average (SMA)\u001b[39;00m\n\u001b[1;32m---> 16\u001b[0m sma_200 \u001b[38;5;241m=\u001b[39m \u001b[43mobb\u001b[49m\u001b[38;5;241;43m.\u001b[39;49m\u001b[43mtechnical\u001b[49m\u001b[38;5;241m.\u001b[39msma(stock_data_df[\u001b[38;5;124m'\u001b[39m\u001b[38;5;124mClose\u001b[39m\u001b[38;5;124m'\u001b[39m], sma_period)\u001b[38;5;241m.\u001b[39miloc[\u001b[38;5;241m-\u001b[39m\u001b[38;5;241m1\u001b[39m]\n\u001b[0;32m     18\u001b[0m \u001b[38;5;66;03m# Calculate weekly RSI\u001b[39;00m\n\u001b[0;32m     19\u001b[0m weekly_data \u001b[38;5;241m=\u001b[39m stock_data\u001b[38;5;241m.\u001b[39mresample(\u001b[38;5;124m'\u001b[39m\u001b[38;5;124mW\u001b[39m\u001b[38;5;124m'\u001b[39m)\u001b[38;5;241m.\u001b[39mlast()\n",
      "\u001b[1;31mAttributeError\u001b[0m: 'App' object has no attribute 'technical'"
     ]
    }
   ],
   "source": [
    "from datetime import datetime, timedelta\n",
    "\n",
    "sma_period = 200\n",
    "rsi_period = 14\n",
    "\n",
    "# Calculate the start date\n",
    "end_date = datetime.now()\n",
    "start_date = (end_date - timedelta(days=max(sma_period, rsi_period * 7))).strftime('%Y-%m-%d')\n",
    "\n",
    "# Fetch stock data for NVDL\n",
    "stock_data = obb.equity.price.historical(\"NVDL\", start_date=start_date, interval=\"1d\")\n",
    "\n",
    "stock_data_df = stock_data.to_dataframe()\n",
    "\n",
    "# Calculate 200-day Simple Moving Average (SMA)\n",
    "sma_200 = obb.technical.sma(stock_data_df['Close'], sma_period).iloc[-1]\n",
    "\n",
    "# Calculate weekly RSI\n",
    "weekly_data = stock_data.resample('W').last()\n",
    "weekly_rsi = obb.technical.rsi(weekly_data['Close'], rsi_period).iloc[-1]\n",
    "\n",
    "# Calculate weekly MACD\n",
    "weekly_macd = obb.technical.macd(weekly_data['Close'])\n",
    "macd_line = weekly_macd['MACD'].iloc[-1]\n",
    "signal_line = weekly_macd['Signal'].iloc[-1]\n",
    "macd_histogram = weekly_macd['Histogram'].iloc[-1]\n",
    "\n",
    "print(f\"200-day SMA: {sma_200:.2f}\")\n",
    "print(f\"Weekly RSI: {weekly_rsi:.2f}\")\n",
    "print(f\"Weekly MACD:\")\n",
    "print(f\"  MACD Line: {macd_line:.2f}\")\n",
    "print(f\"  Signal Line: {signal_line:.2f}\")\n",
    "print(f\"  Histogram: {macd_histogram:.2f}\")\n"
   ]
  }
 ],
 "metadata": {
  "kernelspec": {
   "display_name": "venv",
   "language": "python",
   "name": "python3"
  },
  "language_info": {
   "codemirror_mode": {
    "name": "ipython",
    "version": 3
   },
   "file_extension": ".py",
   "mimetype": "text/x-python",
   "name": "python",
   "nbconvert_exporter": "python",
   "pygments_lexer": "ipython3",
   "version": "3.11.5"
  }
 },
 "nbformat": 4,
 "nbformat_minor": 2
}
